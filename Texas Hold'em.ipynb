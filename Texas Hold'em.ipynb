{
 "cells": [
  {
   "cell_type": "markdown",
   "metadata": {},
   "source": [
    "# 导入Pandas 包"
   ]
  },
  {
   "cell_type": "code",
   "execution_count": 1,
   "metadata": {},
   "outputs": [],
   "source": [
    "import pandas as pd"
   ]
  },
  {
   "cell_type": "markdown",
   "metadata": {},
   "source": [
    "# 预备知识"
   ]
  },
  {
   "cell_type": "markdown",
   "metadata": {},
   "source": [
    "## 数据结构"
   ]
  },
  {
   "cell_type": "markdown",
   "metadata": {},
   "source": [
    "每张牌2个维度：一个是数字，一个是花\n",
    "\n",
    "花色我们用黑桃Spade，梅花Club，方块Diamonds，红桃Hearts用首字母标示S,C,D,H\n",
    "\n",
    "数字用2，3，4，5，6，7，8，9，T，J，Q，K，A标示\n",
    "\n",
    "用如下的方式标示手中的五张牌"
   ]
  },
  {
   "cell_type": "code",
   "execution_count": 106,
   "metadata": {},
   "outputs": [],
   "source": [
    "a='9D 9H 9S 9C AC'\n",
    "b='2C 7C 8C 9C TC'\n",
    "\n",
    "c='2S 3S 4S 5S 7D'\n",
    "d='2S 9S 7D 8S TD'"
   ]
  },
  {
   "cell_type": "markdown",
   "metadata": {},
   "source": [
    "## python 的一些函数"
   ]
  },
  {
   "cell_type": "code",
   "execution_count": 107,
   "metadata": {},
   "outputs": [
    {
     "data": {
      "text/plain": [
       "['9D', '9H', '9S', '9C', 'AC']"
      ]
     },
     "execution_count": 107,
     "metadata": {},
     "output_type": "execute_result"
    }
   ],
   "source": [
    "#split函数，将字符串转化成list\n",
    "a.split()"
   ]
  },
  {
   "cell_type": "code",
   "execution_count": 108,
   "metadata": {},
   "outputs": [
    {
     "name": "stdout",
     "output_type": "stream",
     "text": [
      "['9D', '9H', '9S', '9C', 'AC']\n",
      "['9', '9', '9', '9', 'A']\n",
      "['D', 'H', 'S', 'C', 'C']\n"
     ]
    }
   ],
   "source": [
    "#list中for 语句的小技巧\n",
    "print([i for i in a.split()])\n",
    "print([a for a,b in a.split()])\n",
    "print([b for a,b in a.split()])"
   ]
  },
  {
   "cell_type": "code",
   "execution_count": 111,
   "metadata": {},
   "outputs": [
    {
     "name": "stdout",
     "output_type": "stream",
     "text": [
      "14\n",
      "7\n"
     ]
    }
   ],
   "source": [
    "# 查找字符串中字符位置 index（）\n",
    "print('--23456789TJQKA'.index('A'))\n",
    "print('--23456789TJQKA'.index('7'))"
   ]
  },
  {
   "cell_type": "code",
   "execution_count": 115,
   "metadata": {},
   "outputs": [
    {
     "name": "stdout",
     "output_type": "stream",
     "text": [
      "False\n",
      "True\n",
      "True\n",
      "True\n",
      "False\n"
     ]
    }
   ],
   "source": [
    "# 语句判断\n",
    "print(1==2)\n",
    "print(2==2)\n",
    "print(2>=2)\n",
    "print('A'=='A')\n",
    "print('AA'=='A')"
   ]
  },
  {
   "cell_type": "code",
   "execution_count": 120,
   "metadata": {},
   "outputs": [
    {
     "name": "stdout",
     "output_type": "stream",
     "text": [
      "{1, 2, 3, 4}\n",
      "{'3', '1', '4', '2'}\n",
      "{'3', '1', '2'}\n",
      "4\n"
     ]
    }
   ],
   "source": [
    "#计算对象中，有多少个不重复的元素\n",
    "print(set([1,2,2,3,4]))\n",
    "print(set(['1','2','2','3','4']))\n",
    "print(set('1222333'))\n",
    "print(len(set([1,2,2,3,4])))"
   ]
  },
  {
   "cell_type": "code",
   "execution_count": 131,
   "metadata": {},
   "outputs": [
    {
     "name": "stdout",
     "output_type": "stream",
     "text": [
      "1\n",
      "3\n"
     ]
    }
   ],
   "source": [
    "#计算对象中，某元素的个数\n",
    "print([1,2,3,4,5].count(1))\n",
    "print([1,1,1,2,3].count(1))"
   ]
  },
  {
   "cell_type": "code",
   "execution_count": 154,
   "metadata": {},
   "outputs": [
    {
     "name": "stdout",
     "output_type": "stream",
     "text": [
      "9\n",
      "[10, 9, 8, 7, 6]\n",
      "[10, 9, 8, 7, 6]\n",
      "[10, 9, 8, 7, 6]\n",
      "(9, [9, 8, 7, 6, 5])\n"
     ]
    }
   ],
   "source": [
    "#比较多个对象大小max()按照顺序比较\n",
    "print(max(9,8))\n",
    "print(max([9,8,7,6,5],[10,9,8,7,6]))\n",
    "print(max([10,8,7,6,5],[10,9,8,7,6]))\n",
    "print(max([10,9,7,6,5],[10,9,8,7,6]))\n",
    "print(max((9,[9,8,7,6,5]),(8,[10,8,7,6,5])))"
   ]
  },
  {
   "cell_type": "markdown",
   "metadata": {},
   "source": [
    "# 德扑判断卡牌大小"
   ]
  },
  {
   "cell_type": "markdown",
   "metadata": {},
   "source": [
    "## 按照数字对五张牌进行排序"
   ]
  },
  {
   "cell_type": "code",
   "execution_count": 2,
   "metadata": {},
   "outputs": [],
   "source": [
    "def card_ranks(hand):\n",
    "    ranks = ['--23456789TJQKA'.index(r) for r, s in hand]\n",
    "    ranks.sort(reverse=True)\n",
    "    return  [5, 4, 3, 2, 1] if ranks == [14, 5, 4, 3, 2] else ranks"
   ]
  },
  {
   "cell_type": "code",
   "execution_count": 3,
   "metadata": {},
   "outputs": [
    {
     "name": "stdout",
     "output_type": "stream",
     "text": [
      "[14, 9, 9, 9, 9]\n"
     ]
    }
   ],
   "source": [
    "a='9D 9H 9S 9C AC'\n",
    "print(card_ranks(a.split()))"
   ]
  },
  {
   "cell_type": "markdown",
   "metadata": {},
   "source": [
    "## 判断顺子/同花/两对/n张相同牌"
   ]
  },
  {
   "cell_type": "code",
   "execution_count": 4,
   "metadata": {},
   "outputs": [],
   "source": [
    "#ranks 指的是数字排序后的list，例如[5，4，3，2，1]\n",
    "#hand 指的是牌，例如['1S','2S','6S','8S','9S']\n",
    "\n",
    "# 判断顺子 \n",
    "def straight(ranks):\n",
    "    return (max(ranks) - min(ranks)) == 4 and len(set(ranks)) == 5 #最大牌减最小牌等于4，且五张牌不重复\n",
    "\n",
    "#判断同花\n",
    "def flush(hand):\n",
    "    suit = [s for r, s in hand]\n",
    "    return len(set(suit)) == 1 #五张牌的花色相同\n",
    "\n",
    "#判断n张牌相同\n",
    "def kind(n, ranks):\n",
    "    for s in ranks:\n",
    "        if ranks.count(s) == n : return s #如果某元素在对象中的个数等于我们定义的n，则返回该元素具体数值\n",
    "    return None\n",
    "\n",
    "#判断是否有两对\n",
    "def two_pair(ranks):\n",
    "    pair = kind(2, ranks)\n",
    "    lowpair = kind(2, list(reversed(ranks))) #在有两对儿的情况下，因为赋新值会使得原值被覆盖，所以把原来的rank换个方向，就会得到另一对儿\n",
    "    if pair != lowpair:\n",
    "        return (pair, lowpair)\n",
    "    else:\n",
    "        return None"
   ]
  },
  {
   "cell_type": "code",
   "execution_count": 5,
   "metadata": {},
   "outputs": [],
   "source": [
    "ranks_test=[9,8,7,5,5]\n",
    "hand_test=['1S','2S','6S','8S','9S']"
   ]
  },
  {
   "cell_type": "code",
   "execution_count": 6,
   "metadata": {},
   "outputs": [
    {
     "data": {
      "text/plain": [
       "False"
      ]
     },
     "execution_count": 6,
     "metadata": {},
     "output_type": "execute_result"
    }
   ],
   "source": [
    "straight(ranks_test)"
   ]
  },
  {
   "cell_type": "code",
   "execution_count": 7,
   "metadata": {},
   "outputs": [
    {
     "data": {
      "text/plain": [
       "True"
      ]
     },
     "execution_count": 7,
     "metadata": {},
     "output_type": "execute_result"
    }
   ],
   "source": [
    "flush(hand_test)"
   ]
  },
  {
   "cell_type": "code",
   "execution_count": 8,
   "metadata": {},
   "outputs": [
    {
     "data": {
      "text/plain": [
       "5"
      ]
     },
     "execution_count": 8,
     "metadata": {},
     "output_type": "execute_result"
    }
   ],
   "source": [
    "kind(2,ranks_test)"
   ]
  },
  {
   "cell_type": "code",
   "execution_count": 9,
   "metadata": {},
   "outputs": [],
   "source": [
    "two_pair(ranks_test) #没有输出，是因为没有两对"
   ]
  },
  {
   "cell_type": "markdown",
   "metadata": {},
   "source": [
    "## 为不同牌型赋予权重"
   ]
  },
  {
   "cell_type": "code",
   "execution_count": 10,
   "metadata": {},
   "outputs": [],
   "source": [
    "def hand_rank(hand):\n",
    "    \"Return a value indicating the ranking of a hand.\"\n",
    "    ranks = card_ranks(hand) \n",
    "    if straight(ranks) and flush(hand):                #同花顺\n",
    "        return (9, max(ranks))                         #返回（权重9，顺子的最大牌面）\n",
    "    elif kind(4, ranks):                               #炸弹\n",
    "        return (8, kind(4, ranks), kind(1, ranks))     #返回（权重8，炸弹的牌面，剩余的一张牌的大小）\n",
    "    elif kind(3, ranks) and kind(2, ranks):            #3带2\n",
    "        return (7, kind(3, ranks), kind(2, ranks))     #返回（权重7，三张的牌面，两张的牌面）\n",
    "    elif flush(hand):                                  #同花\n",
    "        return (6,ranks)                               #返回（权重6，五张牌的从大到小的排序）\n",
    "    elif straight(ranks):                              #顺子\n",
    "        return (5, max(ranks))                         #返回（权重5，顺子的最大牌面）\n",
    "    elif kind(3, ranks):                               #三张\n",
    "        return (4, kind(3, ranks), ranks)              #返回（权重4，三张的牌面，五张牌的从大到小的排序）\n",
    "    elif two_pair(ranks):                              #两对\n",
    "        return (3, two_pair(ranks), ranks)             #返回（权重3，（较大的一对儿的牌面，较小的一对儿的牌面），五张牌的从大到小的顺序）\n",
    "    elif kind(2, ranks):                               #两张\n",
    "        return (2, kind(2, ranks), ranks)              #返回（权重2，两张的牌面，五张牌的从大到小的顺序）\n",
    "    else:                                              #一张\n",
    "        return (1, ranks)                              #返回（权重1，五张牌的从大到小的顺序）"
   ]
  },
  {
   "cell_type": "markdown",
   "metadata": {},
   "source": [
    "## 比较大小"
   ]
  },
  {
   "cell_type": "code",
   "execution_count": 11,
   "metadata": {},
   "outputs": [],
   "source": [
    "def poker(hands):\n",
    "    return max(hands, key=hand_rank) # 利用max（）是按照顺序比较，所以首先比较权重，然后如果权重一样，则比较下一位"
   ]
  },
  {
   "cell_type": "code",
   "execution_count": null,
   "metadata": {},
   "outputs": [],
   "source": [
    "for i in []"
   ]
  },
  {
   "cell_type": "code",
   "execution_count": 84,
   "metadata": {},
   "outputs": [],
   "source": [
    "def whowins(hands):\n",
    "    return [hands.index(i) for i in hands if hand_rank(i)==hand_rank(poker(hands))]"
   ]
  },
  {
   "cell_type": "markdown",
   "metadata": {},
   "source": [
    "# Test"
   ]
  },
  {
   "cell_type": "code",
   "execution_count": 73,
   "metadata": {},
   "outputs": [],
   "source": [
    "a='9D 9H 9S 9C AC'.split()\n",
    "b='2C 7C 8C 9C TC'.split()\n",
    "\n",
    "c='2S 9S 7D 8C TC'.split()\n",
    "d='2S 9S 7D 8S TH'.split()\n",
    "e='2S 9S 7D 8H TS'.split()\n",
    "f='2S 9S 7D 8D TD'.split()"
   ]
  },
  {
   "cell_type": "code",
   "execution_count": 87,
   "metadata": {},
   "outputs": [],
   "source": [
    "hands=[c,d,e,f]"
   ]
  },
  {
   "cell_type": "code",
   "execution_count": 88,
   "metadata": {},
   "outputs": [
    {
     "data": {
      "text/plain": [
       "[0, 1, 2, 3]"
      ]
     },
     "execution_count": 88,
     "metadata": {},
     "output_type": "execute_result"
    }
   ],
   "source": [
    "whowins(hands)"
   ]
  },
  {
   "cell_type": "code",
   "execution_count": 83,
   "metadata": {},
   "outputs": [
    {
     "data": {
      "text/plain": [
       "[0, 1, 2, 3]"
      ]
     },
     "execution_count": 83,
     "metadata": {},
     "output_type": "execute_result"
    }
   ],
   "source": [
    "[hands.index(i) for i in hands if hand_rank(i)==hand_rank(poker(hands))]"
   ]
  },
  {
   "cell_type": "code",
   "execution_count": null,
   "metadata": {},
   "outputs": [],
   "source": []
  },
  {
   "cell_type": "code",
   "execution_count": 23,
   "metadata": {},
   "outputs": [
    {
     "data": {
      "text/plain": [
       "['9D', '9H', '9S', '9C', 'AC']"
      ]
     },
     "execution_count": 23,
     "metadata": {},
     "output_type": "execute_result"
    }
   ],
   "source": [
    "poker([a,b,c,d])"
   ]
  },
  {
   "cell_type": "code",
   "execution_count": 25,
   "metadata": {},
   "outputs": [
    {
     "data": {
      "text/plain": [
       "['2S', '9S', '7D', '8S', 'TD']"
      ]
     },
     "execution_count": 25,
     "metadata": {},
     "output_type": "execute_result"
    }
   ],
   "source": [
    "poker([d,c])"
   ]
  },
  {
   "cell_type": "code",
   "execution_count": 27,
   "metadata": {},
   "outputs": [
    {
     "data": {
      "text/plain": [
       "2"
      ]
     },
     "execution_count": 27,
     "metadata": {},
     "output_type": "execute_result"
    }
   ],
   "source": [
    "[a,b,c,d].index(poker([c,d]))"
   ]
  },
  {
   "cell_type": "code",
   "execution_count": 28,
   "metadata": {},
   "outputs": [
    {
     "data": {
      "text/plain": [
       "4"
      ]
     },
     "execution_count": 28,
     "metadata": {},
     "output_type": "execute_result"
    }
   ],
   "source": [
    "len([a,b,c,d])"
   ]
  },
  {
   "cell_type": "code",
   "execution_count": 66,
   "metadata": {},
   "outputs": [],
   "source": [
    "def whowins(hands):\n",
    "    loc=hands.index(poker(hands))\n",
    "    whowin=[]\n",
    "    for x in hands:\n",
    "        mid=list(hands)\n",
    "        mid.insert(0,x)\n",
    "        mid_loc=mid.index(poker(mid))\n",
    "        if mid_loc!=(loc+1):\n",
    "            whowin.append(hands.index(x))\n",
    "    return whowin"
   ]
  },
  {
   "cell_type": "code",
   "execution_count": 74,
   "metadata": {},
   "outputs": [],
   "source": [
    "hands=[c,d,e,f]"
   ]
  },
  {
   "cell_type": "code",
   "execution_count": 44,
   "metadata": {},
   "outputs": [
    {
     "data": {
      "text/plain": [
       "0"
      ]
     },
     "execution_count": 44,
     "metadata": {},
     "output_type": "execute_result"
    }
   ],
   "source": [
    "hands.index(poker(hands))"
   ]
  },
  {
   "cell_type": "code",
   "execution_count": 48,
   "metadata": {},
   "outputs": [],
   "source": [
    "mid=hands.copy"
   ]
  },
  {
   "cell_type": "code",
   "execution_count": 50,
   "metadata": {},
   "outputs": [],
   "source": [
    "mid=list(hands)"
   ]
  },
  {
   "cell_type": "code",
   "execution_count": 56,
   "metadata": {},
   "outputs": [],
   "source": [
    "mid.insert(0,a)"
   ]
  },
  {
   "cell_type": "code",
   "execution_count": 55,
   "metadata": {},
   "outputs": [
    {
     "data": {
      "text/plain": [
       "[['9D', '9H', '9S', '9C', 'AC'],\n",
       " ['2C', '7C', '8C', '9C', 'TC'],\n",
       " ['2S', '9S', '7D', '8C', 'TD'],\n",
       " ['2S', '9S', '7D', '8S', 'TD']]"
      ]
     },
     "execution_count": 55,
     "metadata": {},
     "output_type": "execute_result"
    }
   ],
   "source": [
    "hands"
   ]
  },
  {
   "cell_type": "code",
   "execution_count": 47,
   "metadata": {},
   "outputs": [
    {
     "name": "stdout",
     "output_type": "stream",
     "text": [
      "None\n"
     ]
    }
   ],
   "source": [
    "print(mid)"
   ]
  },
  {
   "cell_type": "code",
   "execution_count": 57,
   "metadata": {},
   "outputs": [
    {
     "data": {
      "text/plain": [
       "[['9D', '9H', '9S', '9C', 'AC'],\n",
       " ['9D', '9H', '9S', '9C', 'AC'],\n",
       " ['9D', '9H', '9S', '9C', 'AC'],\n",
       " ['2C', '7C', '8C', '9C', 'TC'],\n",
       " ['2S', '9S', '7D', '8C', 'TD'],\n",
       " ['2S', '9S', '7D', '8S', 'TD']]"
      ]
     },
     "execution_count": 57,
     "metadata": {},
     "output_type": "execute_result"
    }
   ],
   "source": [
    "mid"
   ]
  },
  {
   "cell_type": "code",
   "execution_count": 40,
   "metadata": {},
   "outputs": [
    {
     "data": {
      "text/plain": [
       "0"
      ]
     },
     "execution_count": 40,
     "metadata": {},
     "output_type": "execute_result"
    }
   ],
   "source": [
    "hands.index(poker(hands))"
   ]
  },
  {
   "cell_type": "code",
   "execution_count": 75,
   "metadata": {},
   "outputs": [
    {
     "data": {
      "text/plain": [
       "[0, 1, 2, 3]"
      ]
     },
     "execution_count": 75,
     "metadata": {},
     "output_type": "execute_result"
    }
   ],
   "source": [
    "whowins(hands)"
   ]
  },
  {
   "cell_type": "code",
   "execution_count": 76,
   "metadata": {},
   "outputs": [
    {
     "data": {
      "text/plain": [
       "['2S', '9S', '7D', '8C', 'TC']"
      ]
     },
     "execution_count": 76,
     "metadata": {},
     "output_type": "execute_result"
    }
   ],
   "source": [
    "hands[0]"
   ]
  },
  {
   "cell_type": "code",
   "execution_count": null,
   "metadata": {},
   "outputs": [],
   "source": []
  }
 ],
 "metadata": {
  "kernelspec": {
   "display_name": "Python 3",
   "language": "python",
   "name": "python3"
  },
  "language_info": {
   "codemirror_mode": {
    "name": "ipython",
    "version": 3
   },
   "file_extension": ".py",
   "mimetype": "text/x-python",
   "name": "python",
   "nbconvert_exporter": "python",
   "pygments_lexer": "ipython3",
   "version": "3.6.5"
  }
 },
 "nbformat": 4,
 "nbformat_minor": 2
}
