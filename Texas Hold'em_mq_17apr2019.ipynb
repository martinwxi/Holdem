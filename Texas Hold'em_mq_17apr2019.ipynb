{
 "cells": [
  {
   "cell_type": "markdown",
   "metadata": {},
   "source": [
    "# 导入Pandas 包"
   ]
  },
  {
   "cell_type": "code",
   "execution_count": 1,
   "metadata": {},
   "outputs": [],
   "source": [
    "import pandas as pd"
   ]
  },
  {
   "cell_type": "markdown",
   "metadata": {},
   "source": [
    "# 预备知识"
   ]
  },
  {
   "cell_type": "markdown",
   "metadata": {},
   "source": [
    "## 数据结构"
   ]
  },
  {
   "cell_type": "markdown",
   "metadata": {},
   "source": [
    "每张牌2个维度：一个是数字，一个是花\n",
    "\n",
    "花色我们用黑桃Spade，梅花Club，方块Diamonds，红桃Hearts用首字母标示S,C,D,H\n",
    "\n",
    "数字用2，3，4，5，6，7，8，9，T，J，Q，K，A标示\n",
    "\n",
    "用如下的方式标示手中的五张牌"
   ]
  },
  {
   "cell_type": "code",
   "execution_count": 2,
   "metadata": {},
   "outputs": [],
   "source": [
    "a='9D 9H 9S 9C AC'\n",
    "b='2C 7C 8C 9C TC'\n",
    "\n",
    "c='2S 3S 4S 5S 7D'\n",
    "d='2S 9S 7D 8S TD'"
   ]
  },
  {
   "cell_type": "markdown",
   "metadata": {},
   "source": [
    "## python 的一些函数"
   ]
  },
  {
   "cell_type": "code",
   "execution_count": 3,
   "metadata": {},
   "outputs": [
    {
     "data": {
      "text/plain": [
       "['9D', '9H', '9S', '9C', 'AC']"
      ]
     },
     "execution_count": 3,
     "metadata": {},
     "output_type": "execute_result"
    }
   ],
   "source": [
    "#split函数，将字符串转化成list\n",
    "a.split()"
   ]
  },
  {
   "cell_type": "code",
   "execution_count": 4,
   "metadata": {
    "scrolled": true
   },
   "outputs": [
    {
     "name": "stdout",
     "output_type": "stream",
     "text": [
      "['9D', '9H', '9S', '9C', 'AC']\n",
      "['9', '9', '9', '9', 'A']\n",
      "['D', 'H', 'S', 'C', 'C']\n"
     ]
    }
   ],
   "source": [
    "#list中for 语句的小技巧\n",
    "print([i for i in a.split()])\n",
    "print([a for a,b in a.split()])\n",
    "print([b for a,b in a.split()])"
   ]
  },
  {
   "cell_type": "code",
   "execution_count": 5,
   "metadata": {
    "scrolled": true
   },
   "outputs": [
    {
     "name": "stdout",
     "output_type": "stream",
     "text": [
      "14\n",
      "7\n"
     ]
    }
   ],
   "source": [
    "# 查找字符串中字符位置 index（）\n",
    "print('--23456789TJQKA'.index('A'))\n",
    "print('--23456789TJQKA'.index('7'))"
   ]
  },
  {
   "cell_type": "code",
   "execution_count": 6,
   "metadata": {},
   "outputs": [
    {
     "name": "stdout",
     "output_type": "stream",
     "text": [
      "False\n",
      "True\n",
      "True\n",
      "True\n",
      "False\n"
     ]
    }
   ],
   "source": [
    "# 语句判断\n",
    "print(1==2)\n",
    "print(2==2)\n",
    "print(2>=2)\n",
    "print('A'=='A')\n",
    "print('AA'=='A')"
   ]
  },
  {
   "cell_type": "code",
   "execution_count": 7,
   "metadata": {},
   "outputs": [
    {
     "name": "stdout",
     "output_type": "stream",
     "text": [
      "{1, 2, 3, 4}\n",
      "{'4', '1', '3', '2'}\n",
      "{'1', '3', '2'}\n",
      "4\n"
     ]
    }
   ],
   "source": [
    "#计算对象中，有多少个不重复的元素\n",
    "print(set([1,2,2,3,4]))\n",
    "print(set(['1','2','2','3','4']))\n",
    "print(set('1222333'))\n",
    "print(len(set([1,2,2,3,4])))"
   ]
  },
  {
   "cell_type": "code",
   "execution_count": 8,
   "metadata": {},
   "outputs": [
    {
     "name": "stdout",
     "output_type": "stream",
     "text": [
      "1\n",
      "3\n"
     ]
    }
   ],
   "source": [
    "#计算对象中，某元素的个数\n",
    "print([1,2,3,4,5].count(1))\n",
    "print([1,1,1,2,3].count(1))"
   ]
  },
  {
   "cell_type": "code",
   "execution_count": 9,
   "metadata": {},
   "outputs": [
    {
     "name": "stdout",
     "output_type": "stream",
     "text": [
      "9\n",
      "[10, 9, 8, 7, 6]\n",
      "[10, 9, 8, 7, 6]\n",
      "[10, 9, 8, 7, 6]\n",
      "(9, [10, 8, 7, 6, 5])\n"
     ]
    }
   ],
   "source": [
    "#比较多个对象大小max()按照顺序比较\n",
    "print(max(9,8))\n",
    "print(max([9,8,7,6,5],[10,9,8,7,6]))\n",
    "print(max([10,8,7,6,5],[10,9,8,7,6]))\n",
    "print(max([10,9,7,6,5],[10,9,8,7,6]))\n",
    "print(max((9,[9,8,7,6,5]),(9,[10,8,7,6,5])))"
   ]
  },
  {
   "cell_type": "markdown",
   "metadata": {},
   "source": [
    "# 德扑判断卡牌大小"
   ]
  },
  {
   "cell_type": "markdown",
   "metadata": {},
   "source": [
    "## 按照数字对五张牌进行排序"
   ]
  },
  {
   "cell_type": "code",
   "execution_count": 296,
   "metadata": {},
   "outputs": [],
   "source": [
    "def card_ranks(hand):\n",
    "    ranks = ['--23456789TJQKA'.index(r) for r, s in hand]\n",
    "    ranks.sort(reverse=True)\n",
    "    return  [5, 4, 3, 2, 1] if ranks == [14, 5, 4, 3, 2] else ranks"
   ]
  },
  {
   "cell_type": "code",
   "execution_count": 297,
   "metadata": {},
   "outputs": [
    {
     "name": "stdout",
     "output_type": "stream",
     "text": [
      "[14, 9, 9, 9, 9]\n"
     ]
    }
   ],
   "source": [
    "a='9D 9H 9S 9C AC'\n",
    "print(card_ranks(a.split()))"
   ]
  },
  {
   "cell_type": "markdown",
   "metadata": {},
   "source": [
    "## 判断顺子/同花/两对/n张相同牌"
   ]
  },
  {
   "cell_type": "code",
   "execution_count": 298,
   "metadata": {},
   "outputs": [],
   "source": [
    "#ranks 指的是数字排序后的list，例如[5，4，3，2，1]\n",
    "#hand 指的是牌，例如['1S','2S','6S','8S','9S']\n",
    "\n",
    "# 判断顺子 \n",
    "def straight(ranks):\n",
    "    return (max(ranks) - min(ranks)) == 4 and len(set(ranks)) == 5 #最大牌减最小牌等于4，且五张牌不重复\n",
    "\n",
    "#判断同花\n",
    "def flush(hand):\n",
    "    suit = [s for r, s in hand]\n",
    "    return len(set(suit)) == 1 #五张牌的花色相同\n",
    "\n",
    "#判断n张牌相同\n",
    "def kind(n, ranks):\n",
    "    for s in ranks:\n",
    "        if ranks.count(s) == n : return s #如果某元素在对象中的个数等于我们定义的n，则返回该元素具体数值\n",
    "    return None\n",
    "\n",
    "#判断是否有两对\n",
    "def two_pair(ranks):\n",
    "    pair = kind(2, ranks)\n",
    "    lowpair = kind(2, list(reversed(ranks))) #在有两对儿的情况下，因为赋新值会使得原值被覆盖，所以把原来的rank换个方向，就会得到另一对儿\n",
    "    if pair != lowpair:\n",
    "        return (pair, lowpair)\n",
    "    else:\n",
    "        return None"
   ]
  },
  {
   "cell_type": "code",
   "execution_count": 299,
   "metadata": {},
   "outputs": [],
   "source": [
    "ranks_test=[9,8,7,5,5]\n",
    "hand_test=['1S','2S','6S','8S','9S']"
   ]
  },
  {
   "cell_type": "code",
   "execution_count": 300,
   "metadata": {},
   "outputs": [
    {
     "data": {
      "text/plain": [
       "False"
      ]
     },
     "execution_count": 300,
     "metadata": {},
     "output_type": "execute_result"
    }
   ],
   "source": [
    "straight(ranks_test)"
   ]
  },
  {
   "cell_type": "code",
   "execution_count": 301,
   "metadata": {},
   "outputs": [
    {
     "data": {
      "text/plain": [
       "True"
      ]
     },
     "execution_count": 301,
     "metadata": {},
     "output_type": "execute_result"
    }
   ],
   "source": [
    "flush(hand_test)"
   ]
  },
  {
   "cell_type": "code",
   "execution_count": 302,
   "metadata": {},
   "outputs": [
    {
     "data": {
      "text/plain": [
       "5"
      ]
     },
     "execution_count": 302,
     "metadata": {},
     "output_type": "execute_result"
    }
   ],
   "source": [
    "kind(2,ranks_test)"
   ]
  },
  {
   "cell_type": "code",
   "execution_count": 303,
   "metadata": {},
   "outputs": [],
   "source": [
    "two_pair(ranks_test) #没有输出，是因为没有两对"
   ]
  },
  {
   "cell_type": "markdown",
   "metadata": {},
   "source": [
    "## 为不同牌型赋予权重"
   ]
  },
  {
   "cell_type": "code",
   "execution_count": 304,
   "metadata": {},
   "outputs": [],
   "source": [
    "def hand_rank(hand):\n",
    "    \"Return a value indicating the ranking of a hand.\"\n",
    "    ranks = card_ranks(hand) \n",
    "    if straight(ranks) and flush(hand):                #同花顺\n",
    "        return (9, max(ranks))                         #返回（权重9，顺子的最大牌面）\n",
    "    elif kind(4, ranks):                               #炸弹\n",
    "        return (8, kind(4, ranks), kind(1, ranks))     #返回（权重8，炸弹的牌面，剩余的一张牌的大小）\n",
    "    elif kind(3, ranks) and kind(2, ranks):            #3带2\n",
    "        return (7, kind(3, ranks), kind(2, ranks))     #返回（权重7，三张的牌面，两张的牌面）\n",
    "    elif flush(hand):                                  #同花\n",
    "        return (6,ranks)                               #返回（权重6，五张牌的从大到小的排序）\n",
    "    elif straight(ranks):                              #顺子\n",
    "        return (5, max(ranks))                         #返回（权重5，顺子的最大牌面）\n",
    "    elif kind(3, ranks):                               #三张\n",
    "        return (4, kind(3, ranks), ranks)              #返回（权重4，三张的牌面，五张牌的从大到小的排序）\n",
    "    elif two_pair(ranks):                              #两对\n",
    "        return (3, two_pair(ranks), ranks)             #返回（权重3，（较大的一对儿的牌面，较小的一对儿的牌面），五张牌的从大到小的顺序）\n",
    "    elif kind(2, ranks):                               #两张\n",
    "        return (2, kind(2, ranks), ranks)              #返回（权重2，两张的牌面，五张牌的从大到小的顺序）\n",
    "    else:                                              #一张\n",
    "        return (1, ranks)                              #返回（权重1，五张牌的从大到小的顺序）"
   ]
  },
  {
   "cell_type": "markdown",
   "metadata": {},
   "source": [
    "## 比较大小"
   ]
  },
  {
   "cell_type": "code",
   "execution_count": 305,
   "metadata": {},
   "outputs": [],
   "source": [
    "def poker(hands):\n",
    "    return max(hands, key=hand_rank) # 利用max（）是按照顺序比较，所以首先比较权重，然后如果权重一样，则比较下一位"
   ]
  },
  {
   "cell_type": "code",
   "execution_count": 306,
   "metadata": {},
   "outputs": [],
   "source": [
    "def whowins(hands):\n",
    "    return(hands.index(poker(hands)))"
   ]
  },
  {
   "cell_type": "code",
   "execution_count": 307,
   "metadata": {},
   "outputs": [],
   "source": [
    "# create hand universe"
   ]
  },
  {
   "cell_type": "code",
   "execution_count": 308,
   "metadata": {},
   "outputs": [],
   "source": [
    "fullnumberlist =reversed (['2','3','4','5','6','7','8','9','T','J','Q','K','A'])\n",
    "fullsuitlist = ['S','C','D','H']"
   ]
  },
  {
   "cell_type": "code",
   "execution_count": 309,
   "metadata": {},
   "outputs": [],
   "source": [
    "fulldeck=[]\n",
    "\n",
    "for i in fullnumberlist :\n",
    "    for y in fullsuitlist :\n",
    "        fulldeck.append(i+y)\n",
    "        "
   ]
  },
  {
   "cell_type": "code",
   "execution_count": 310,
   "metadata": {},
   "outputs": [],
   "source": [
    "handuniverse=[]\n",
    "len_handuniverse=0\n",
    "for a in range (1,53) :\n",
    "    for b in range (a+1,53) :\n",
    "        for c in range (b+1,53) :\n",
    "            for d in range (c+1,53):\n",
    "                for e in range (d+1,53):\n",
    "                    handuniverse.append([fulldeck[a-1],fulldeck[b-1],fulldeck[c-1],fulldeck[d-1],fulldeck[e-1]])\n",
    "                    len_handuniverse=len_handuniverse +1\n",
    "                        "
   ]
  },
  {
   "cell_type": "code",
   "execution_count": 311,
   "metadata": {},
   "outputs": [],
   "source": [
    "handuniverse_ranked = sorted(handuniverse, key=hand_rank, reverse= True)   #sort the hand universe"
   ]
  },
  {
   "cell_type": "code",
   "execution_count": 312,
   "metadata": {},
   "outputs": [],
   "source": [
    "# for any 5 cards, what is the winning probability. It needs to be improved to consider the equal-hands situation\n",
    "def winprob_fivecards (hand) :  \n",
    "    sorted_hand=card_sort(hand)\n",
    "    return (1-handuniverse_ranked.index(sorted_hand) / len_handuniverse)"
   ]
  },
  {
   "cell_type": "code",
   "execution_count": 365,
   "metadata": {},
   "outputs": [],
   "source": [
    "def winprob_twocards (twocards) :\n",
    "    twocards=['AH','AD']\n",
    "    twocards_0 = fulldeck.index(twocards[0])\n",
    "    twocards_1 = fulldeck.index(twocards[1])\n",
    "    sum_prob=0\n",
    "    i=0\n",
    "    for a in range (52) :\n",
    "        for b in range (a+1,52) :\n",
    "            for c in range (b+1,52) :\n",
    "                if twocards_0 not in [a,b,c] and twocards_1 not in [a,b,c] :\n",
    "                    #print([fulldeck[twocards_0],fulldeck[twocards_1],fulldeck[a],fulldeck[b],fulldeck[c]])\n",
    "                    sum_prob=sum_prob+winprob_fivecards([fulldeck[twocards_0],fulldeck[twocards_1],fulldeck[a],fulldeck[b],fulldeck[c]])\n",
    "                    i=i+1\n",
    "                    \n",
    "    return [sum_prob/i,i]\n",
    "    \n"
   ]
  },
  {
   "cell_type": "code",
   "execution_count": 314,
   "metadata": {},
   "outputs": [],
   "source": [
    "# sort the hand into the order that can be looked up in the handuniverse\n",
    "def card_sort(hand):\n",
    "    fullcardnum='--23456789TJQKA'\n",
    "    fullsuitlist = ['S','C','D','H']\n",
    "    ranks_1 = [fullcardnum.index(r) for r, s in hand] \n",
    "    ranks_2 = [fullsuitlist.index(s) for r, s in hand]\n",
    "    card=[]\n",
    "    for i in range(5) :\n",
    "        card.append ([ranks_1[i],ranks_2[i]])\n",
    "    sorted_card_num = sorted (card, key = lambda x:(-x[0],x[1]))\n",
    "    sorted_card=[]\n",
    "    for i in range(5):\n",
    "        sorted_card.append(str(fullcardnum[sorted_card_num[i][0]])+fullsuitlist[sorted_card_num[i][1]])\n",
    "    return sorted_card\n"
   ]
  },
  {
   "cell_type": "code",
   "execution_count": 344,
   "metadata": {},
   "outputs": [
    {
     "data": {
      "text/plain": [
       "0.9999842244590144"
      ]
     },
     "execution_count": 344,
     "metadata": {},
     "output_type": "execute_result"
    }
   ],
   "source": [
    "\n",
    "testhand = ['AC', 'AD', 'AH', 'AS', 'KC']\n",
    "winprob_fivecards(testhand)"
   ]
  },
  {
   "cell_type": "code",
   "execution_count": 369,
   "metadata": {},
   "outputs": [
    {
     "data": {
      "text/plain": [
       "[0.9273560590641274, 19600]"
      ]
     },
     "execution_count": 369,
     "metadata": {},
     "output_type": "execute_result"
    }
   ],
   "source": [
    "winprob_twocards(['3H','JD'])"
   ]
  },
  {
   "cell_type": "code",
   "execution_count": 367,
   "metadata": {},
   "outputs": [
    {
     "data": {
      "text/plain": [
       "19600.0"
      ]
     },
     "execution_count": 367,
     "metadata": {},
     "output_type": "execute_result"
    }
   ],
   "source": [
    "50*49*48/6\n"
   ]
  },
  {
   "cell_type": "raw",
   "metadata": {},
   "source": []
  },
  {
   "cell_type": "markdown",
   "metadata": {},
   "source": [
    "# Test"
   ]
  },
  {
   "cell_type": "code",
   "execution_count": 72,
   "metadata": {},
   "outputs": [],
   "source": [
    "a='9D 9H 9S 9C AC'.split()\n",
    "b='2C 7C 8C 9C TC'.split()\n",
    "\n",
    "c='2S 3S 4S 5S 7D'.split()\n",
    "d='2S 9S 7D 8S TD'.split()"
   ]
  },
  {
   "cell_type": "code",
   "execution_count": 73,
   "metadata": {},
   "outputs": [
    {
     "data": {
      "text/plain": [
       "['9D', '9H', '9S', '9C', 'AC']"
      ]
     },
     "execution_count": 73,
     "metadata": {},
     "output_type": "execute_result"
    }
   ],
   "source": [
    "poker([a,b,c,d])"
   ]
  },
  {
   "cell_type": "code",
   "execution_count": 74,
   "metadata": {},
   "outputs": [
    {
     "ename": "ValueError",
     "evalue": "['9D', '9H', '9S', '9C', 'AC'] is not in list",
     "output_type": "error",
     "traceback": [
      "\u001b[1;31m---------------------------------------------------------------------------\u001b[0m",
      "\u001b[1;31mValueError\u001b[0m                                Traceback (most recent call last)",
      "\u001b[1;32m<ipython-input-74-aefc39b13a2d>\u001b[0m in \u001b[0;36m<module>\u001b[1;34m\u001b[0m\n\u001b[1;32m----> 1\u001b[1;33m \u001b[0mwinningprob_fivecards\u001b[0m\u001b[1;33m(\u001b[0m\u001b[0ma\u001b[0m\u001b[1;33m)\u001b[0m\u001b[1;33m\u001b[0m\u001b[1;33m\u001b[0m\u001b[0m\n\u001b[0m",
      "\u001b[1;32m<ipython-input-71-d1a0d3263559>\u001b[0m in \u001b[0;36mwinningprob_fivecards\u001b[1;34m(fivecards)\u001b[0m\n\u001b[0;32m      1\u001b[0m \u001b[1;32mdef\u001b[0m \u001b[0mwinningprob_fivecards\u001b[0m \u001b[1;33m(\u001b[0m\u001b[0mfivecards\u001b[0m\u001b[1;33m)\u001b[0m \u001b[1;33m:\u001b[0m\u001b[1;33m\u001b[0m\u001b[1;33m\u001b[0m\u001b[0m\n\u001b[1;32m----> 2\u001b[1;33m     \u001b[1;32mreturn\u001b[0m \u001b[0mhanduniverse_ranked\u001b[0m\u001b[1;33m.\u001b[0m\u001b[0mindex\u001b[0m\u001b[1;33m(\u001b[0m\u001b[0mfivecards\u001b[0m\u001b[1;33m)\u001b[0m \u001b[1;33m/\u001b[0m \u001b[0mlen_handuniverse\u001b[0m\u001b[1;33m\u001b[0m\u001b[1;33m\u001b[0m\u001b[0m\n\u001b[0m",
      "\u001b[1;31mValueError\u001b[0m: ['9D', '9H', '9S', '9C', 'AC'] is not in list"
     ]
    }
   ],
   "source": [
    "winningprob_fivecards(a)"
   ]
  },
  {
   "cell_type": "code",
   "execution_count": null,
   "metadata": {},
   "outputs": [],
   "source": [
    "poker([c,d])"
   ]
  },
  {
   "cell_type": "code",
   "execution_count": null,
   "metadata": {},
   "outputs": [],
   "source": [
    "[a,b,c,d].index(poker([c,d])\n",
    "               )"
   ]
  },
  {
   "cell_type": "code",
   "execution_count": null,
   "metadata": {},
   "outputs": [],
   "source": [
    "poker([a,b,c,d])"
   ]
  },
  {
   "cell_type": "code",
   "execution_count": null,
   "metadata": {},
   "outputs": [],
   "source": [
    "[a,b,c,d].index(poker[a,b,c,d])"
   ]
  },
  {
   "cell_type": "code",
   "execution_count": null,
   "metadata": {},
   "outputs": [],
   "source": [
    "[a,b,c,d].split().index(poker[a,b,c,d])"
   ]
  },
  {
   "cell_type": "code",
   "execution_count": null,
   "metadata": {},
   "outputs": [],
   "source": [
    "[a,b,c,d].split()"
   ]
  },
  {
   "cell_type": "code",
   "execution_count": null,
   "metadata": {},
   "outputs": [],
   "source": [
    "[a,b,c,d]"
   ]
  },
  {
   "cell_type": "code",
   "execution_count": null,
   "metadata": {},
   "outputs": [],
   "source": [
    "whowins([a,b,c,d])"
   ]
  },
  {
   "cell_type": "code",
   "execution_count": null,
   "metadata": {},
   "outputs": [],
   "source": [
    "e='AH AD 9C TC 5D'.split()"
   ]
  },
  {
   "cell_type": "code",
   "execution_count": null,
   "metadata": {},
   "outputs": [],
   "source": [
    "e"
   ]
  },
  {
   "cell_type": "code",
   "execution_count": null,
   "metadata": {},
   "outputs": [],
   "source": [
    "f='AC AS TD TH 5H'.split()"
   ]
  },
  {
   "cell_type": "code",
   "execution_count": null,
   "metadata": {},
   "outputs": [],
   "source": [
    "f"
   ]
  },
  {
   "cell_type": "code",
   "execution_count": null,
   "metadata": {},
   "outputs": [],
   "source": [
    "whowins([e,f])"
   ]
  },
  {
   "cell_type": "code",
   "execution_count": null,
   "metadata": {},
   "outputs": [],
   "source": [
    " len_handuniverse\n",
    "    "
   ]
  },
  {
   "cell_type": "code",
   "execution_count": null,
   "metadata": {},
   "outputs": [],
   "source": [
    "fulldeck"
   ]
  },
  {
   "cell_type": "code",
   "execution_count": null,
   "metadata": {},
   "outputs": [],
   "source": [
    "len(set('4a','5a','5a'))"
   ]
  },
  {
   "cell_type": "code",
   "execution_count": null,
   "metadata": {},
   "outputs": [],
   "source": [
    "len(set(['4a','5a','5a']))"
   ]
  },
  {
   "cell_type": "code",
   "execution_count": null,
   "metadata": {},
   "outputs": [],
   "source": [
    "a='2a'\n",
    "b='3b'\n",
    "c='3c'\n",
    "test=[a,b,c]"
   ]
  },
  {
   "cell_type": "code",
   "execution_count": null,
   "metadata": {},
   "outputs": [],
   "source": [
    "test.append(['4d','5e','6f'])"
   ]
  },
  {
   "cell_type": "code",
   "execution_count": null,
   "metadata": {},
   "outputs": [],
   "source": [
    "test"
   ]
  },
  {
   "cell_type": "code",
   "execution_count": null,
   "metadata": {},
   "outputs": [],
   "source": [
    "a=[1,2,3,4,5]\n"
   ]
  },
  {
   "cell_type": "code",
   "execution_count": null,
   "metadata": {},
   "outputs": [],
   "source": [
    "b=0\n",
    "for i in a:\n",
    "    b=b+1\n",
    "    "
   ]
  },
  {
   "cell_type": "code",
   "execution_count": null,
   "metadata": {},
   "outputs": [],
   "source": [
    "b"
   ]
  },
  {
   "cell_type": "code",
   "execution_count": null,
   "metadata": {},
   "outputs": [],
   "source": [
    "x=handuniverse[3]"
   ]
  },
  {
   "cell_type": "code",
   "execution_count": null,
   "metadata": {},
   "outputs": [],
   "source": [
    " len_handuniverse\n"
   ]
  },
  {
   "cell_type": "code",
   "execution_count": null,
   "metadata": {},
   "outputs": [],
   "source": [
    "1+1\n"
   ]
  },
  {
   "cell_type": "code",
   "execution_count": 295,
   "metadata": {},
   "outputs": [
    {
     "data": {
      "text/plain": [
       "['AS',\n",
       " 'AC',\n",
       " 'AD',\n",
       " 'AH',\n",
       " 'KS',\n",
       " 'KC',\n",
       " 'KD',\n",
       " 'KH',\n",
       " 'QS',\n",
       " 'QC',\n",
       " 'QD',\n",
       " 'QH',\n",
       " 'JS',\n",
       " 'JC',\n",
       " 'JD',\n",
       " 'JH',\n",
       " 'TS',\n",
       " 'TC',\n",
       " 'TD',\n",
       " 'TH',\n",
       " '9S',\n",
       " '9C',\n",
       " '9D',\n",
       " '9H',\n",
       " '8S',\n",
       " '8C',\n",
       " '8D',\n",
       " '8H',\n",
       " '7S',\n",
       " '7C',\n",
       " '7D',\n",
       " '7H',\n",
       " '6S',\n",
       " '6C',\n",
       " '6D',\n",
       " '6H',\n",
       " '5S',\n",
       " '5C',\n",
       " '5D',\n",
       " '5H',\n",
       " '4S',\n",
       " '4C',\n",
       " '4D',\n",
       " '4H',\n",
       " '3S',\n",
       " '3C',\n",
       " '3D',\n",
       " '3H',\n",
       " '2S',\n",
       " '2C',\n",
       " '2D',\n",
       " '2H']"
      ]
     },
     "execution_count": 295,
     "metadata": {},
     "output_type": "execute_result"
    }
   ],
   "source": [
    "fulldeck"
   ]
  },
  {
   "cell_type": "code",
   "execution_count": 25,
   "metadata": {},
   "outputs": [
    {
     "data": {
      "text/plain": [
       "52"
      ]
     },
     "execution_count": 25,
     "metadata": {},
     "output_type": "execute_result"
    }
   ],
   "source": [
    "len(set(fulldeck))"
   ]
  },
  {
   "cell_type": "code",
   "execution_count": 26,
   "metadata": {},
   "outputs": [
    {
     "data": {
      "text/plain": [
       "'2S'"
      ]
     },
     "execution_count": 26,
     "metadata": {},
     "output_type": "execute_result"
    }
   ],
   "source": [
    "fulldeck[0]"
   ]
  },
  {
   "cell_type": "code",
   "execution_count": 27,
   "metadata": {},
   "outputs": [
    {
     "data": {
      "text/plain": [
       "'AH'"
      ]
     },
     "execution_count": 27,
     "metadata": {},
     "output_type": "execute_result"
    }
   ],
   "source": [
    "fulldeck[51]"
   ]
  },
  {
   "cell_type": "code",
   "execution_count": 81,
   "metadata": {},
   "outputs": [],
   "source": [
    "a=1"
   ]
  },
  {
   "cell_type": "code",
   "execution_count": 29,
   "metadata": {},
   "outputs": [],
   "source": [
    "b=2"
   ]
  },
  {
   "cell_type": "code",
   "execution_count": 82,
   "metadata": {},
   "outputs": [
    {
     "data": {
      "text/plain": [
       "'AC'"
      ]
     },
     "execution_count": 82,
     "metadata": {},
     "output_type": "execute_result"
    }
   ],
   "source": [
    "fulldeck[a]"
   ]
  },
  {
   "cell_type": "code",
   "execution_count": 31,
   "metadata": {},
   "outputs": [
    {
     "data": {
      "text/plain": [
       "'2D'"
      ]
     },
     "execution_count": 31,
     "metadata": {},
     "output_type": "execute_result"
    }
   ],
   "source": [
    "fulldeck[b]"
   ]
  },
  {
   "cell_type": "code",
   "execution_count": 32,
   "metadata": {},
   "outputs": [
    {
     "data": {
      "text/plain": [
       "['2C', '2D']"
      ]
     },
     "execution_count": 32,
     "metadata": {},
     "output_type": "execute_result"
    }
   ],
   "source": [
    "[fulldeck[a],fulldeck[b]]"
   ]
  },
  {
   "cell_type": "code",
   "execution_count": 289,
   "metadata": {},
   "outputs": [
    {
     "data": {
      "text/plain": [
       "['AC', 'AD', 'AH', 'AS', 'KC']"
      ]
     },
     "execution_count": 289,
     "metadata": {},
     "output_type": "execute_result"
    }
   ],
   "source": [
    "handuniverse_ranked[40]"
   ]
  },
  {
   "cell_type": "code",
   "execution_count": 343,
   "metadata": {},
   "outputs": [
    {
     "name": "stdout",
     "output_type": "stream",
     "text": [
      "['AD', 'AH', 'AS', 'AC', 'KS']\n",
      "['AD', 'AH', 'AS', 'AC', 'KC']\n",
      "['AD', 'AH', 'AS', 'AC', 'KD']\n",
      "['AD', 'AH', 'AS', 'AC', 'KH']\n",
      "['AD', 'AH', 'AS', 'KS', 'KC']\n",
      "['AD', 'AH', 'AS', 'KS', 'KD']\n",
      "['AD', 'AH', 'AS', 'KS', 'KH']\n",
      "['AD', 'AH', 'AS', 'KC', 'KD']\n",
      "['AD', 'AH', 'AS', 'KC', 'KH']\n",
      "['AD', 'AH', 'AS', 'KD', 'KH']\n",
      "['AD', 'AH', 'AC', 'KS', 'KC']\n",
      "['AD', 'AH', 'AC', 'KS', 'KD']\n",
      "['AD', 'AH', 'AC', 'KS', 'KH']\n",
      "['AD', 'AH', 'AC', 'KC', 'KD']\n",
      "['AD', 'AH', 'AC', 'KC', 'KH']\n",
      "['AD', 'AH', 'AC', 'KD', 'KH']\n",
      "['AD', 'AH', 'KS', 'KC', 'KD']\n",
      "['AD', 'AH', 'KS', 'KC', 'KH']\n",
      "['AD', 'AH', 'KS', 'KD', 'KH']\n",
      "['AD', 'AH', 'KC', 'KD', 'KH']\n"
     ]
    }
   ],
   "source": [
    "twocards_0 = 2\n",
    "twocards_1 = 3\n",
    "sum_prob=0\n",
    "i=0\n",
    "for a in range (8) :\n",
    "    for b in range (a+1,8) :\n",
    "        for c in range (b+1,8) :\n",
    "            if twocards_0 not in [a,b,c] and twocards_1 not in [a,b,c] :\n",
    "                print([fulldeck[twocards_0],fulldeck[twocards_1],fulldeck[a],fulldeck[b],fulldeck[c]])"
   ]
  },
  {
   "cell_type": "code",
   "execution_count": null,
   "metadata": {},
   "outputs": [],
   "source": []
  }
 ],
 "metadata": {
  "kernelspec": {
   "display_name": "Python 3",
   "language": "python",
   "name": "python3"
  },
  "language_info": {
   "codemirror_mode": {
    "name": "ipython",
    "version": 3
   },
   "file_extension": ".py",
   "mimetype": "text/x-python",
   "name": "python",
   "nbconvert_exporter": "python",
   "pygments_lexer": "ipython3",
   "version": "3.7.1"
  }
 },
 "nbformat": 4,
 "nbformat_minor": 2
}
